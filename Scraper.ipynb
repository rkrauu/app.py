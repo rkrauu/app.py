{
  "nbformat": 4,
  "nbformat_minor": 0,
  "metadata": {
    "colab": {
      "provenance": [],
      "authorship_tag": "ABX9TyO16FTsSFkiNSNgXMderkpJ",
      "include_colab_link": true
    },
    "kernelspec": {
      "name": "python3",
      "display_name": "Python 3"
    },
    "language_info": {
      "name": "python"
    }
  },
  "cells": [
    {
      "cell_type": "markdown",
      "metadata": {
        "id": "view-in-github",
        "colab_type": "text"
      },
      "source": [
        "<a href=\"https://colab.research.google.com/github/rkrauu/app.py/blob/main/Scraper.ipynb\" target=\"_parent\"><img src=\"https://colab.research.google.com/assets/colab-badge.svg\" alt=\"Open In Colab\"/></a>"
      ]
    },
    {
      "cell_type": "code",
      "source": [
        "import requests\n",
        "from bs4 import BeautifulSoup\n",
        "import csv"
      ],
      "metadata": {
        "id": "ohat0pVlZf6U"
      },
      "execution_count": 26,
      "outputs": []
    },
    {
      "cell_type": "code",
      "source": [
        "def scrape_quotes():\n",
        "    url = \"http://quotes.toscrape.com\"\n",
        "    quotes = []\n",
        "\n",
        "    while True:\n",
        "        response = requests.get(url)\n",
        "        if response.status_code != 200:\n",
        "            print(f\"Failed to retrieve data from {url}\")\n",
        "            break\n",
        "\n",
        "        soup = BeautifulSoup(response.text, 'html.parser')\n",
        "\n",
        "        for quote in soup.select('.quote'):\n",
        "            text = quote.select_one('.text').get_text()\n",
        "            author = quote.select_one('.author').get_text()\n",
        "            quotes.append({\"text\": text, \"author\": author})\n",
        "\n",
        "        next_button = soup.select_one('.next > a')\n",
        "        if next_button:\n",
        "            next_url = next_button['href']\n",
        "            url = f\"http://quotes.toscrape.com{next_url}\"\n",
        "        else:\n",
        "            break\n",
        "\n",
        "    return quotes"
      ],
      "metadata": {
        "id": "AetPLHT7ZiNE"
      },
      "execution_count": 27,
      "outputs": []
    },
    {
      "cell_type": "code",
      "source": [
        "def save_to_csv(quotes, filename=\"quotes.csv\"):\n",
        "  with open(filename, 'w', newline='', encoding='utf-8') as csvfile:\n",
        "        fieldnames = ['text', 'author']\n",
        "        writer = csv.DictWriter(csvfile, fieldnames=fieldnames)\n",
        "\n",
        "        writer.writeheader()\n",
        "        for quote in quotes:\n",
        "            writer.writerow(quote)\n",
        "\n",
        "if __name__ == \"__main__\":\n",
        "    quotes = scrape_quotes()\n",
        "    save_to_csv(quotes)\n",
        "    print(f\"Scraped and saved {len(quotes)} quotes to quotes.csv\")"
      ],
      "metadata": {
        "colab": {
          "base_uri": "https://localhost:8080/"
        },
        "id": "ISzvoVZCZtMZ",
        "outputId": "c5de1e95-2dbf-43ae-dd8a-a35aa715e4e6"
      },
      "execution_count": 28,
      "outputs": [
        {
          "output_type": "stream",
          "name": "stdout",
          "text": [
            "Scraped and saved 100 quotes to quotes.csv\n"
          ]
        }
      ]
    }
  ]
}